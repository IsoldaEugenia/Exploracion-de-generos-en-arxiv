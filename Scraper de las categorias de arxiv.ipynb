{
 "cells": [
  {
   "cell_type": "code",
   "execution_count": 1,
   "id": "1ff053fa",
   "metadata": {},
   "outputs": [],
   "source": [
    "## Scraper basado en el visto en el curso para extraer las categorias de arxiv para los artículos de matemática\n",
    "\n",
    "import bs4 as soup\n",
    "import requests\n",
    "\n",
    "## La url que nos interesa es la siguiente:\n",
    "url = 'https://arxiv.org/archive/math'\n",
    "\n",
    "## Obtenemos el codigo html del link\n",
    "info = requests.get(url) \n",
    "data = soup.BeautifulSoup(info.text, 'lxml')\n",
    "\n",
    "## Mediante inspección del buscador observamos que las categorías se encuentran en negrita,\n",
    "## lo cual en html está indicado por <b>. Utilizamos esta observación para armar una lista \"categorias\"\n",
    "\n",
    "categorias = []\n",
    "\n",
    "for i in data.findAll('b'):\n",
    "    categorias.append(i.text)\n",
    "\n",
    "## Inspeccionamos el contenido de la lista y dado que las primeras cuatro líneas no nos interesan las quitamos,\n",
    "## luego además, puesto que cada categoría está dada con su abreviatura y su nombre completo\n",
    "## (por ejemplo 'math.AG - Algebraic Geometry'), separamos la cadena aprovechando el guión \" - \"\n",
    "    \n",
    "parsedCategorias = categorias[4:]\n",
    "\n",
    "for i in range(len(parsedCategorias)):\n",
    "    s = parsedCategorias[i].split(\" - \")\n",
    "    parsedCategorias[i] = s\n",
    "\n",
    "## Finalmente, transformamos la lista en diccionario para utilizarlo luego.\n",
    "\n",
    "DicParsedCategorias = dict(parsedCategorias)\n"
   ]
  },
  {
   "cell_type": "code",
   "execution_count": null,
   "id": "6e438bb0",
   "metadata": {},
   "outputs": [],
   "source": []
  }
 ],
 "metadata": {
  "kernelspec": {
   "display_name": "Python 3 (ipykernel)",
   "language": "python",
   "name": "python3"
  },
  "language_info": {
   "codemirror_mode": {
    "name": "ipython",
    "version": 3
   },
   "file_extension": ".py",
   "mimetype": "text/x-python",
   "name": "python",
   "nbconvert_exporter": "python",
   "pygments_lexer": "ipython3",
   "version": "3.9.6"
  }
 },
 "nbformat": 4,
 "nbformat_minor": 5
}
